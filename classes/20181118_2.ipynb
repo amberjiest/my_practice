{
 "cells": [
  {
   "cell_type": "markdown",
   "metadata": {},
   "source": [
    "面向对象的编程，class，封装，继承（人（superclass与学生、老师subclass，人是学生、老师的超类；人base是学生derived class的基类）\n",
    "tool and knife,fork,swiss knife, we can say swiss knife has a knife."
   ]
  },
  {
   "cell_type": "markdown",
   "metadata": {},
   "source": [
    "面向对象的第一个问题：多态（不同的对象执行同样的方法，展示出的结果不同）eg. \"...\".format(...)"
   ]
  },
  {
   "cell_type": "code",
   "execution_count": 1,
   "metadata": {},
   "outputs": [
    {
     "data": {
      "text/plain": [
       "2"
      ]
     },
     "execution_count": 1,
     "metadata": {},
     "output_type": "execute_result"
    }
   ],
   "source": [
    "[1, 2, 'e', 'o', 'e'].count('e')"
   ]
  },
  {
   "cell_type": "code",
   "execution_count": 2,
   "metadata": {},
   "outputs": [
    {
     "data": {
      "text/plain": [
       "1"
      ]
     },
     "execution_count": 2,
     "metadata": {},
     "output_type": "execute_result"
    }
   ],
   "source": [
    "'hello'.count('e')"
   ]
  },
  {
   "cell_type": "code",
   "execution_count": 9,
   "metadata": {},
   "outputs": [
    {
     "data": {
      "text/plain": [
       "1"
      ]
     },
     "execution_count": 9,
     "metadata": {},
     "output_type": "execute_result"
    }
   ],
   "source": [
    "from random import choice\n",
    "x = choice(['hello, world', [1, 2, 'e', 'o', 'e']])\n",
    "x.count('e')"
   ]
  },
  {
   "cell_type": "code",
   "execution_count": 16,
   "metadata": {},
   "outputs": [
    {
     "name": "stdout",
     "output_type": "stream",
     "text": [
      "[1, 2, 'e', 'o', 'e', 'e']\n"
     ]
    }
   ],
   "source": [
    "from random import choice\n",
    "x = choice(['hello, world', [1, 2, 'e', 'o', 'e']])\n",
    "x.append('e')\n",
    "print(x)"
   ]
  },
  {
   "cell_type": "code",
   "execution_count": 24,
   "metadata": {},
   "outputs": [
    {
     "name": "stdout",
     "output_type": "stream",
     "text": [
      "['hello, world', [1, 2, 'e', 'o', 'e', '!']]\n"
     ]
    }
   ],
   "source": [
    "my_list = ['hello, world', [1, 2, 'e', 'o', 'e']]\n",
    "for item in my_list:\n",
    "    item += '!'\n",
    "#     item.append('!')\n",
    "print(my_list)"
   ]
  },
  {
   "cell_type": "code",
   "execution_count": 27,
   "metadata": {},
   "outputs": [
    {
     "name": "stdout",
     "output_type": "stream",
     "text": [
      "hello, world!\n",
      "[1, 2, 'e', 'o', 'e', '!']\n",
      "['hello, world', [1, 2, 'e', 'o', 'e', '!']]\n"
     ]
    }
   ],
   "source": [
    "my_list = ['hello, world', [1, 2, 'e', 'o', 'e']]\n",
    "for item in my_list:\n",
    "    if isinstance(item, str): item += '!'\n",
    "    elif isinstance (item, list): item.append('!')\n",
    "    print(item)\n",
    "print(my_list)"
   ]
  },
  {
   "cell_type": "code",
   "execution_count": 28,
   "metadata": {},
   "outputs": [
    {
     "data": {
      "text/plain": [
       "3"
      ]
     },
     "execution_count": 28,
     "metadata": {},
     "output_type": "execute_result"
    }
   ],
   "source": [
    "1 + 2 "
   ]
  },
  {
   "cell_type": "code",
   "execution_count": 29,
   "metadata": {},
   "outputs": [
    {
     "data": {
      "text/plain": [
       "'helloworld'"
      ]
     },
     "execution_count": 29,
     "metadata": {},
     "output_type": "execute_result"
    }
   ],
   "source": [
    "'hello' + 'world'"
   ]
  },
  {
   "cell_type": "code",
   "execution_count": 30,
   "metadata": {},
   "outputs": [
    {
     "ename": "TypeError",
     "evalue": "unsupported operand type(s) for +: 'int' and 'str'",
     "output_type": "error",
     "traceback": [
      "\u001b[1;31m---------------------------------------------------------------------------\u001b[0m",
      "\u001b[1;31mTypeError\u001b[0m                                 Traceback (most recent call last)",
      "\u001b[1;32m<ipython-input-30-4261deaf3afc>\u001b[0m in \u001b[0;36m<module>\u001b[1;34m\u001b[0m\n\u001b[1;32m----> 1\u001b[1;33m \u001b[1;36m1\u001b[0m \u001b[1;33m+\u001b[0m \u001b[1;34m'hello'\u001b[0m\u001b[1;33m\u001b[0m\u001b[1;33m\u001b[0m\u001b[0m\n\u001b[0m",
      "\u001b[1;31mTypeError\u001b[0m: unsupported operand type(s) for +: 'int' and 'str'"
     ]
    }
   ],
   "source": [
    "1 + 'hello'"
   ]
  },
  {
   "cell_type": "code",
   "execution_count": 33,
   "metadata": {},
   "outputs": [
    {
     "name": "stdout",
     "output_type": "stream",
     "text": [
      "3\n",
      "helloworld\n"
     ]
    }
   ],
   "source": [
    "def add(x, y):\n",
    "    return x + y\n",
    "\n",
    "print(add(1, 2))\n",
    "print(add('hello', 'world'))"
   ]
  },
  {
   "cell_type": "code",
   "execution_count": 34,
   "metadata": {},
   "outputs": [
    {
     "name": "stdout",
     "output_type": "stream",
     "text": [
      "The length of [1, 2, 3] 3\n",
      "The length of 'hello' 5\n"
     ]
    }
   ],
   "source": [
    "def length_message(x):\n",
    "    print(\"The length of\", repr(x), len(x))\n",
    "    \n",
    "length_message([1, 2, 3])\n",
    "length_message(\"hello\")"
   ]
  },
  {
   "cell_type": "markdown",
   "metadata": {},
   "source": [
    "duck typing,"
   ]
  },
  {
   "cell_type": "code",
   "execution_count": 35,
   "metadata": {},
   "outputs": [],
   "source": [
    "class Person:\n",
    "    def set_name(self, name):\n",
    "        self.name = name\n",
    "        \n",
    "    def get_name(self):\n",
    "        return self.name\n",
    "    \n",
    "    def greet(self):\n",
    "        print(\"Hello, I'm {}\".format(self.name))"
   ]
  },
  {
   "cell_type": "code",
   "execution_count": 39,
   "metadata": {},
   "outputs": [
    {
     "name": "stdout",
     "output_type": "stream",
     "text": [
      "Hello, I'm Zhang San\n"
     ]
    }
   ],
   "source": [
    "zs = Person()\n",
    "zs.set_name(\"Zhang San\")\n",
    "zs.greet()"
   ]
  },
  {
   "cell_type": "code",
   "execution_count": 40,
   "metadata": {},
   "outputs": [
    {
     "name": "stdout",
     "output_type": "stream",
     "text": [
      "Hello, I'm Li Si\n"
     ]
    }
   ],
   "source": [
    "ls = Person()\n",
    "ls.set_name('Li Si')\n",
    "ls.greet()"
   ]
  },
  {
   "cell_type": "markdown",
   "metadata": {},
   "source": [
    "方法对应着对象的行为和动作，所以function起名u最好用动词，类的命名是名词。行为模式=方法的总和；数据成员（attributes)最好用名词。"
   ]
  },
  {
   "cell_type": "code",
   "execution_count": 50,
   "metadata": {},
   "outputs": [],
   "source": [
    "class Person:\n",
    "    def set_name(self, name):\n",
    "        self.__name = name\n",
    "        \n",
    "    def get_name(self):\n",
    "        return self.__name\n",
    "    \n",
    "    def greet(self):\n",
    "        self.greet2()\n",
    "        self.greet2()\n",
    "        \n",
    "    def greet2(self):\n",
    "        print(\"Hello, I'm {}\".format(self.__name))"
   ]
  },
  {
   "cell_type": "code",
   "execution_count": 51,
   "metadata": {},
   "outputs": [
    {
     "name": "stdout",
     "output_type": "stream",
     "text": [
      "Hello, I'm Zhang San\n",
      "Hello, I'm Zhang San\n"
     ]
    }
   ],
   "source": [
    "zs = Person()\n",
    "zs.set_name(\"Zhang San\")\n",
    "zs.__name = 1\n",
    "zs.greet()"
   ]
  },
  {
   "cell_type": "code",
   "execution_count": 44,
   "metadata": {},
   "outputs": [],
   "source": [
    "class Person:\n",
    "    def set_name(self, name):\n",
    "        self.name = name\n",
    "        \n",
    "    def get_name(self):\n",
    "        return self.name\n",
    "    \n",
    "    def greet(self):\n",
    "        print(\"Hello, I'm {}\".format(self.name))"
   ]
  },
  {
   "cell_type": "code",
   "execution_count": 45,
   "metadata": {},
   "outputs": [
    {
     "name": "stdout",
     "output_type": "stream",
     "text": [
      "Hello, I'm 1\n"
     ]
    }
   ],
   "source": [
    "zs = Person()\n",
    "zs.set_name(\"Zhang San\")\n",
    "zs.name = 1\n",
    "zs.greet()"
   ]
  },
  {
   "cell_type": "code",
   "execution_count": 58,
   "metadata": {},
   "outputs": [],
   "source": [
    "class Student(Person):\n",
    "    def set_score(self, score):\n",
    "        self.score = score\n",
    "        \n",
    "    def get_score(self):\n",
    "        return score\n",
    "    \n",
    "    def show_score(self):\n",
    "        print('my score is: {}'.format(self.score))\n",
    "        \n",
    "    def greet(self):\n",
    "        self.show_score()"
   ]
  },
  {
   "cell_type": "code",
   "execution_count": null,
   "metadata": {},
   "outputs": [],
   "source": []
  }
 ],
 "metadata": {
  "kernelspec": {
   "display_name": "Python 3",
   "language": "python",
   "name": "python3"
  },
  "language_info": {
   "codemirror_mode": {
    "name": "ipython",
    "version": 3
   },
   "file_extension": ".py",
   "mimetype": "text/x-python",
   "name": "python",
   "nbconvert_exporter": "python",
   "pygments_lexer": "ipython3",
   "version": "3.6.7"
  }
 },
 "nbformat": 4,
 "nbformat_minor": 2
}
