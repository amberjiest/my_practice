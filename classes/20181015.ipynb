{
 "cells": [
  {
   "cell_type": "markdown",
   "metadata": {},
   "source": [
    "# dict"
   ]
  },
  {
   "cell_type": "code",
   "execution_count": 1,
   "metadata": {},
   "outputs": [
    {
     "name": "stdout",
     "output_type": "stream",
     "text": [
      "['Zheng3', 'Li4', 'Wang5', 'Zhao6']\n"
     ]
    }
   ],
   "source": [
    "name_list = ['Zheng3', 'Li4', 'Wang5', 'Zhao6']\n",
    "phone_number_list = [110, 120, 119, 114]\n",
    "\n",
    "print(name_list)"
   ]
  },
  {
   "cell_type": "code",
   "execution_count": 2,
   "metadata": {},
   "outputs": [
    {
     "name": "stdout",
     "output_type": "stream",
     "text": [
      "1\n"
     ]
    }
   ],
   "source": [
    "index = name_list.index('Li4')\n",
    "print(index)"
   ]
  },
  {
   "cell_type": "code",
   "execution_count": 3,
   "metadata": {},
   "outputs": [
    {
     "name": "stdout",
     "output_type": "stream",
     "text": [
      "120\n"
     ]
    }
   ],
   "source": [
    "print(phone_number_list[index])"
   ]
  },
  {
   "cell_type": "code",
   "execution_count": 7,
   "metadata": {},
   "outputs": [
    {
     "name": "stdout",
     "output_type": "stream",
     "text": [
      "120\n"
     ]
    }
   ],
   "source": [
    "print(phone_number_list[name_list.index('Li4')])"
   ]
  },
  {
   "cell_type": "markdown",
   "metadata": {},
   "source": [
    "# if we sort the name of the contacts, how should we processs the phone_number_list?\n",
    "# create dict"
   ]
  },
  {
   "cell_type": "code",
   "execution_count": 8,
   "metadata": {},
   "outputs": [],
   "source": [
    "phone_book = {'Zhang3':110, 'Li4':120, 'Wang5':119, 'Zhao6':114}"
   ]
  },
  {
   "cell_type": "code",
   "execution_count": 9,
   "metadata": {},
   "outputs": [
    {
     "name": "stdout",
     "output_type": "stream",
     "text": [
      "{'Zhang3': 110, 'Li4': 120, 'Wang5': 119, 'Zhao6': 114}\n"
     ]
    }
   ],
   "source": [
    "print(phone_book)"
   ]
  },
  {
   "cell_type": "code",
   "execution_count": 10,
   "metadata": {},
   "outputs": [
    {
     "name": "stdout",
     "output_type": "stream",
     "text": [
      "['Zheng3', 'Li4', 'Wang5', 'Zhao6']\n"
     ]
    }
   ],
   "source": [
    "print(name_list)"
   ]
  },
  {
   "cell_type": "code",
   "execution_count": 11,
   "metadata": {},
   "outputs": [
    {
     "name": "stdout",
     "output_type": "stream",
     "text": [
      "<class 'list'>\n"
     ]
    }
   ],
   "source": [
    "print(type(name_list))"
   ]
  },
  {
   "cell_type": "code",
   "execution_count": 12,
   "metadata": {},
   "outputs": [
    {
     "name": "stdout",
     "output_type": "stream",
     "text": [
      "<class 'dict'>\n"
     ]
    }
   ],
   "source": [
    "print(type(phone_book))"
   ]
  },
  {
   "cell_type": "code",
   "execution_count": 13,
   "metadata": {},
   "outputs": [],
   "source": [
    "phone_book = {'Zhang3':110, 'Li4':120, 'Wang5':119, 'Zhao6':114}"
   ]
  },
  {
   "cell_type": "code",
   "execution_count": 14,
   "metadata": {},
   "outputs": [
    {
     "name": "stdout",
     "output_type": "stream",
     "text": [
      "{'Zhang3': 100, 'Li4': 128, 'Wang5': 119, 'Zhao6': 114}\n"
     ]
    }
   ],
   "source": [
    "item_list = [('Zhang3', 100), ('Li4', 128), ('Wang5', 119), ('Zhao6', 114)]\n",
    "phone_book = dict(item_list)\n",
    "print(phone_book)"
   ]
  },
  {
   "cell_type": "code",
   "execution_count": 15,
   "metadata": {},
   "outputs": [
    {
     "name": "stdout",
     "output_type": "stream",
     "text": [
      "[('Zhang3', 100), ('Li4', 128), ('Wang5', 119), ('Zhao6', 114)]\n"
     ]
    }
   ],
   "source": [
    "print(item_list)"
   ]
  },
  {
   "cell_type": "code",
   "execution_count": 16,
   "metadata": {},
   "outputs": [],
   "source": [
    "phone_book = {}.fromkeys(name_list, 0)"
   ]
  },
  {
   "cell_type": "code",
   "execution_count": 17,
   "metadata": {},
   "outputs": [
    {
     "name": "stdout",
     "output_type": "stream",
     "text": [
      "{'Zheng3': 0, 'Li4': 0, 'Wang5': 0, 'Zhao6': 0}\n"
     ]
    }
   ],
   "source": [
    "print(phone_book)"
   ]
  },
  {
   "cell_type": "code",
   "execution_count": 18,
   "metadata": {},
   "outputs": [
    {
     "name": "stdout",
     "output_type": "stream",
     "text": [
      "{}\n"
     ]
    }
   ],
   "source": [
    "phone_book = {}\n",
    "print(phone_book)"
   ]
  },
  {
   "cell_type": "code",
   "execution_count": 19,
   "metadata": {},
   "outputs": [],
   "source": [
    "phone_book['Zhang3'] = 110"
   ]
  },
  {
   "cell_type": "code",
   "execution_count": 20,
   "metadata": {},
   "outputs": [
    {
     "name": "stdout",
     "output_type": "stream",
     "text": [
      "{'Zhang3': 110}\n"
     ]
    }
   ],
   "source": [
    "print(phone_book)"
   ]
  },
  {
   "cell_type": "code",
   "execution_count": 21,
   "metadata": {},
   "outputs": [
    {
     "name": "stdout",
     "output_type": "stream",
     "text": [
      "{'Zhang3': 110, 'Li4': 120}\n"
     ]
    }
   ],
   "source": [
    "phone_book['Li4'] = 120\n",
    "print(phone_book)"
   ]
  },
  {
   "cell_type": "code",
   "execution_count": 22,
   "metadata": {},
   "outputs": [],
   "source": [
    "phone_book['Wang5'] = 119\n",
    "phone_book['Zhao5'] = 114"
   ]
  },
  {
   "cell_type": "code",
   "execution_count": 23,
   "metadata": {},
   "outputs": [
    {
     "name": "stdout",
     "output_type": "stream",
     "text": [
      "{'Zhang3': 110, 'Li4': 120, 'Wang5': 119, 'Zhao5': 114}\n"
     ]
    }
   ],
   "source": [
    "print(phone_book)"
   ]
  },
  {
   "cell_type": "code",
   "execution_count": 28,
   "metadata": {},
   "outputs": [
    {
     "name": "stdout",
     "output_type": "stream",
     "text": [
      "0\n",
      "1\n",
      "2\n",
      "3\n"
     ]
    }
   ],
   "source": [
    "name_list = ['Zhang3', 'Li4', 'Wang5', 'Zhao6']\n",
    "phone_number_list = [110, 120, 129, 114]\n",
    "\n",
    "for index in range(4):\n",
    "    print(index)"
   ]
  },
  {
   "cell_type": "code",
   "execution_count": 27,
   "metadata": {},
   "outputs": [
    {
     "name": "stdout",
     "output_type": "stream",
     "text": [
      "Zhang3\n",
      "110\n",
      "-----------------\n",
      "Li4\n",
      "120\n",
      "-----------------\n",
      "Wang5\n",
      "119\n",
      "-----------------\n",
      "Zhao6\n",
      "114\n",
      "-----------------\n",
      "{'Zhang3': 110, 'Li4': 120, 'Wang5': 119, 'Zhao6': 114}\n"
     ]
    }
   ],
   "source": [
    "phone_book = {}\n",
    "\n",
    "for index in range(4):\n",
    "    name = name_list[index]\n",
    "    phone_number = phone_number_list[index]\n",
    "    print(name)\n",
    "    print(phone_number)\n",
    "    phone_book[name] = phone_number\n",
    "    print('-----------------')\n",
    "    phone_book[name_list[index]] = phone_number_list[index]\n",
    "    \n",
    "print(phone_book)"
   ]
  },
  {
   "cell_type": "code",
   "execution_count": 29,
   "metadata": {},
   "outputs": [
    {
     "name": "stdout",
     "output_type": "stream",
     "text": [
      "23333\n"
     ]
    }
   ],
   "source": [
    "print('23333')"
   ]
  },
  {
   "cell_type": "markdown",
   "metadata": {},
   "source": [
    "# 1\n",
    "## 2\n",
    "### 3"
   ]
  },
  {
   "cell_type": "markdown",
   "metadata": {},
   "source": [
    "## process"
   ]
  },
  {
   "cell_type": "markdown",
   "metadata": {},
   "source": [
    "**bold**\n",
    "*it*"
   ]
  },
  {
   "cell_type": "code",
   "execution_count": 30,
   "metadata": {},
   "outputs": [],
   "source": [
    "phone_book = {'Zhang3':110, 'Li4':120, 'Wang5':119, 'Zhao6':114}"
   ]
  },
  {
   "cell_type": "code",
   "execution_count": 31,
   "metadata": {},
   "outputs": [
    {
     "name": "stdout",
     "output_type": "stream",
     "text": [
      "{'Zhang3': 110, 'Li4': 120}\n",
      "{'Wang5': 119, 'Zhao6': 114}\n"
     ]
    }
   ],
   "source": [
    "# update\n",
    "phone_book1 = {'Zhang3': 110, 'Li4': 120}\n",
    "phone_book2 = {'Wang5': 119, 'Zhao6':114}\n",
    "\n",
    "print(phone_book1)\n",
    "print(phone_book2)"
   ]
  },
  {
   "cell_type": "code",
   "execution_count": 32,
   "metadata": {},
   "outputs": [
    {
     "name": "stdout",
     "output_type": "stream",
     "text": [
      "{'Zhang3': 110, 'Li4': 120, 'Wang5': 119, 'Zhao6': 114}\n",
      "{'Wang5': 119, 'Zhao6': 114}\n"
     ]
    }
   ],
   "source": [
    "phone_book1.update(phone_book2)\n",
    "print(phone_book1)\n",
    "print(phone_book2)"
   ]
  },
  {
   "cell_type": "code",
   "execution_count": 33,
   "metadata": {},
   "outputs": [
    {
     "name": "stdout",
     "output_type": "stream",
     "text": [
      "{'Zhang3': 11234, 'Sun7': 911}\n"
     ]
    }
   ],
   "source": [
    "phone_book3 = {'Zhang3':11234, 'Sun7':911}\n",
    "print(phone_book3)"
   ]
  },
  {
   "cell_type": "code",
   "execution_count": 34,
   "metadata": {},
   "outputs": [
    {
     "name": "stdout",
     "output_type": "stream",
     "text": [
      "{'Zhang3': 110, 'Li4': 120, 'Wang5': 119, 'Zhao6': 114}\n"
     ]
    }
   ],
   "source": [
    "print(phone_book1)"
   ]
  },
  {
   "cell_type": "code",
   "execution_count": 36,
   "metadata": {},
   "outputs": [
    {
     "name": "stdout",
     "output_type": "stream",
     "text": [
      "{'Zhang3': 11234, 'Li4': 120, 'Wang5': 119, 'Zhao6': 114, 'Sun7': 911}\n"
     ]
    }
   ],
   "source": [
    "phone_book1.update(phone_book3)\n",
    "print(phone_book1)"
   ]
  },
  {
   "cell_type": "code",
   "execution_count": 37,
   "metadata": {},
   "outputs": [],
   "source": [
    "# pop"
   ]
  },
  {
   "cell_type": "code",
   "execution_count": 38,
   "metadata": {},
   "outputs": [],
   "source": [
    "phone_book = {'Zhang3':110, 'Li4':120, 'Wang5':119, 'Zhao6':114}"
   ]
  },
  {
   "cell_type": "code",
   "execution_count": 39,
   "metadata": {},
   "outputs": [
    {
     "name": "stdout",
     "output_type": "stream",
     "text": [
      "{'Li4': 120, 'Wang5': 119, 'Zhao6': 114}\n"
     ]
    }
   ],
   "source": [
    "phone_book.pop('Zhang3')\n",
    "print(phone_book)"
   ]
  },
  {
   "cell_type": "code",
   "execution_count": 40,
   "metadata": {},
   "outputs": [
    {
     "name": "stdout",
     "output_type": "stream",
     "text": [
      "{'Wang5': 119, 'Zhao6': 114}\n"
     ]
    }
   ],
   "source": [
    "del phone_book['Li4']\n",
    "print(phone_book)"
   ]
  },
  {
   "cell_type": "code",
   "execution_count": 41,
   "metadata": {},
   "outputs": [
    {
     "name": "stdout",
     "output_type": "stream",
     "text": [
      "119\n"
     ]
    }
   ],
   "source": [
    "print(phone_book.pop('Wang5'))"
   ]
  },
  {
   "cell_type": "code",
   "execution_count": 42,
   "metadata": {},
   "outputs": [
    {
     "name": "stdout",
     "output_type": "stream",
     "text": [
      "{'Zhao6': 114}\n"
     ]
    }
   ],
   "source": [
    "print(phone_book)"
   ]
  },
  {
   "cell_type": "code",
   "execution_count": 44,
   "metadata": {},
   "outputs": [
    {
     "name": "stdout",
     "output_type": "stream",
     "text": [
      "{'Zhang3': 110, 'Li4': 120, 'Wang5': 119, 'Zhao6': 114}\n"
     ]
    }
   ],
   "source": [
    "#popitem\n",
    "phone_book = {'Zhang3':110, 'Li4':120, 'Wang5':119, 'Zhao6':114}\n",
    "print(phone_book)"
   ]
  },
  {
   "cell_type": "code",
   "execution_count": 45,
   "metadata": {},
   "outputs": [
    {
     "name": "stdout",
     "output_type": "stream",
     "text": [
      "('Zhao6', 114)\n",
      "{'Zhang3': 110, 'Li4': 120, 'Wang5': 119}\n"
     ]
    }
   ],
   "source": [
    "print(phone_book.popitem())\n",
    "print(phone_book)"
   ]
  },
  {
   "cell_type": "code",
   "execution_count": 46,
   "metadata": {},
   "outputs": [
    {
     "name": "stdout",
     "output_type": "stream",
     "text": [
      "{}\n",
      "{'Zhang3': 110, 'Li4': 120, 'Wang5': 119, 'Zhao6': 114}\n"
     ]
    }
   ],
   "source": [
    "# OrderedDict\n",
    "phone_book = {}\n",
    "print(phone_book)\n",
    "\n",
    "phone_book['Zhang3'] = 110\n",
    "phone_book['Li4'] = 120\n",
    "phone_book['Wang5'] = 119\n",
    "phone_book['Zhao6'] = 114\n",
    "\n",
    "print(phone_book)"
   ]
  },
  {
   "cell_type": "code",
   "execution_count": 88,
   "metadata": {},
   "outputs": [
    {
     "name": "stdout",
     "output_type": "stream",
     "text": [
      "OrderedDict([('Zhang3', 110), ('Li4', 120), ('Wang5', 119), ('Zhao6', 114)])\n",
      "<class 'collections.OrderedDict'>\n",
      "<class 'dict'>\n"
     ]
    }
   ],
   "source": [
    "from collections import OrderedDict\n",
    "ordered_phone_book = OrderedDict()\n",
    "\n",
    "ordered_phone_book['Zhang3'] = 110\n",
    "ordered_phone_book['Li4'] = 120\n",
    "ordered_phone_book['Wang5'] = 119\n",
    "ordered_phone_book['Zhao6'] = 114\n",
    "\n",
    "print(ordered_phone_book)\n",
    "\n",
    "print(type(ordered_phone_book))\n",
    "print(type(phone_book))"
   ]
  },
  {
   "cell_type": "code",
   "execution_count": 48,
   "metadata": {},
   "outputs": [
    {
     "name": "stdout",
     "output_type": "stream",
     "text": [
      "{'Zhang3': 110, 'Li4': 120, 'Wang5': 119, 'Zhao6': 114}\n"
     ]
    }
   ],
   "source": [
    "phone_book = {'Zhang3':110, 'Li4':120, 'Wang5':119, 'Zhao6':114}\n",
    "print(phone_book)"
   ]
  },
  {
   "cell_type": "code",
   "execution_count": 49,
   "metadata": {},
   "outputs": [
    {
     "name": "stdout",
     "output_type": "stream",
     "text": [
      "{}\n"
     ]
    }
   ],
   "source": [
    "phone_book.clear()\n",
    "print(phone_book)"
   ]
  },
  {
   "cell_type": "code",
   "execution_count": 50,
   "metadata": {},
   "outputs": [
    {
     "name": "stdout",
     "output_type": "stream",
     "text": [
      "{'Zhang3': 110, 'Li4': 120, 'Wang5': 119, 'Zhao6': 114}\n"
     ]
    }
   ],
   "source": [
    "phone_book = {'Zhang3':110, 'Li4':120, 'Wang5':119, 'Zhao6':114}\n",
    "print(phone_book)"
   ]
  },
  {
   "cell_type": "markdown",
   "metadata": {},
   "source": [
    "# vain"
   ]
  },
  {
   "cell_type": "code",
   "execution_count": 52,
   "metadata": {},
   "outputs": [
    {
     "name": "stdout",
     "output_type": "stream",
     "text": [
      "{'Zhang3': 10086}\n"
     ]
    }
   ],
   "source": [
    "#setdefault\n",
    "phone_book = {}\n",
    "\n",
    "phone_book.setdefault('Zhang3', 10086)\n",
    "print(phone_book)\n",
    "\n"
   ]
  },
  {
   "cell_type": "code",
   "execution_count": 53,
   "metadata": {},
   "outputs": [
    {
     "name": "stdout",
     "output_type": "stream",
     "text": [
      "{'Zhang3': 110, 'Li4': 120, 'Wang5': 119, 'Zhao6': 114}\n"
     ]
    }
   ],
   "source": [
    "phone_book = {'Zhang3':110, 'Li4':120, 'Wang5':119, 'Zhao6':114}\n",
    "print(phone_book)"
   ]
  },
  {
   "cell_type": "code",
   "execution_count": 54,
   "metadata": {},
   "outputs": [
    {
     "name": "stdout",
     "output_type": "stream",
     "text": [
      "{'Zhang3': 110, 'Li4': 120, 'Wang5': 119, 'Zhao6': 114}\n"
     ]
    }
   ],
   "source": [
    "new_phone_book = phone_book\n",
    "print(new_phone_book)"
   ]
  },
  {
   "cell_type": "code",
   "execution_count": 55,
   "metadata": {},
   "outputs": [
    {
     "name": "stdout",
     "output_type": "stream",
     "text": [
      "{'Zhang3': 110, 'Li4': 120, 'Wang5': 119, 'Zhao6': 114, 'Sun7': 911}\n"
     ]
    }
   ],
   "source": [
    "new_phone_book['Sun7'] = 911\n",
    "print(new_phone_book)"
   ]
  },
  {
   "cell_type": "code",
   "execution_count": 56,
   "metadata": {},
   "outputs": [
    {
     "name": "stdout",
     "output_type": "stream",
     "text": [
      "{'Zhang3': 110, 'Li4': 120, 'Wang5': 119, 'Zhao6': 114, 'Sun7': 911}\n"
     ]
    }
   ],
   "source": [
    "print(phone_book)"
   ]
  },
  {
   "cell_type": "code",
   "execution_count": 57,
   "metadata": {},
   "outputs": [
    {
     "name": "stdout",
     "output_type": "stream",
     "text": [
      "{'Li4': 120, 'Wang5': 119, 'Zhao6': 114, 'Sun7': 911}\n"
     ]
    }
   ],
   "source": [
    "del new_phone_book['Zhang3']\n",
    "print(new_phone_book)"
   ]
  },
  {
   "cell_type": "code",
   "execution_count": 58,
   "metadata": {},
   "outputs": [
    {
     "name": "stdout",
     "output_type": "stream",
     "text": [
      "{'Li4': 120, 'Wang5': 119, 'Zhao6': 114, 'Sun7': 911}\n"
     ]
    }
   ],
   "source": [
    "print(phone_book)"
   ]
  },
  {
   "cell_type": "code",
   "execution_count": 59,
   "metadata": {},
   "outputs": [
    {
     "name": "stdout",
     "output_type": "stream",
     "text": [
      "[1, 2, 3, 4]\n"
     ]
    }
   ],
   "source": [
    "list1 = [1, 2, 3, 4]\n",
    "print(list1)"
   ]
  },
  {
   "cell_type": "code",
   "execution_count": 60,
   "metadata": {},
   "outputs": [
    {
     "name": "stdout",
     "output_type": "stream",
     "text": [
      "[1, 2, 3, 4]\n"
     ]
    }
   ],
   "source": [
    "list2 = list1\n",
    "print(list2)"
   ]
  },
  {
   "cell_type": "code",
   "execution_count": 61,
   "metadata": {},
   "outputs": [
    {
     "name": "stdout",
     "output_type": "stream",
     "text": [
      "[1, 2, 4]\n"
     ]
    }
   ],
   "source": [
    "list2.remove(3)\n",
    "print(list2)"
   ]
  },
  {
   "cell_type": "code",
   "execution_count": 62,
   "metadata": {},
   "outputs": [
    {
     "name": "stdout",
     "output_type": "stream",
     "text": [
      "[1, 2, 4]\n"
     ]
    }
   ],
   "source": [
    "print(list1)"
   ]
  },
  {
   "cell_type": "code",
   "execution_count": 63,
   "metadata": {},
   "outputs": [],
   "source": [
    "#Shallow copy\n",
    "#deep copy"
   ]
  },
  {
   "cell_type": "code",
   "execution_count": 64,
   "metadata": {},
   "outputs": [],
   "source": [
    "from copy import deepcopy"
   ]
  },
  {
   "cell_type": "code",
   "execution_count": 65,
   "metadata": {},
   "outputs": [
    {
     "name": "stdout",
     "output_type": "stream",
     "text": [
      "{'Zhang3': 110, 'Li4': 119}\n"
     ]
    }
   ],
   "source": [
    "phone_book = {'Zhang3': 110, 'Li4':119}\n",
    "print(phone_book)"
   ]
  },
  {
   "cell_type": "code",
   "execution_count": 66,
   "metadata": {},
   "outputs": [
    {
     "name": "stdout",
     "output_type": "stream",
     "text": [
      "{'Zhang3': 110, 'Li4': 119}\n"
     ]
    }
   ],
   "source": [
    "new_phone_book = deepcopy(phone_book)\n",
    "print(new_phone_book)"
   ]
  },
  {
   "cell_type": "code",
   "execution_count": 67,
   "metadata": {},
   "outputs": [
    {
     "name": "stdout",
     "output_type": "stream",
     "text": [
      "{'Zhang3': 110, 'Li4': 119, 'Wang5': 120}\n"
     ]
    }
   ],
   "source": [
    "new_phone_book['Wang5'] = 120\n",
    "print(new_phone_book)"
   ]
  },
  {
   "cell_type": "code",
   "execution_count": 68,
   "metadata": {},
   "outputs": [
    {
     "name": "stdout",
     "output_type": "stream",
     "text": [
      "{'Zhang3': 110, 'Li4': 119}\n"
     ]
    }
   ],
   "source": [
    "print(phone_book)"
   ]
  },
  {
   "cell_type": "markdown",
   "metadata": {},
   "source": [
    "# ##Iterations\n",
    "- keys\n",
    "- values\n",
    "- items"
   ]
  },
  {
   "cell_type": "code",
   "execution_count": 69,
   "metadata": {},
   "outputs": [
    {
     "name": "stdout",
     "output_type": "stream",
     "text": [
      "{'Zhang3': 110, 'Li4': 120, 'Wang5': 119, 'Zhao6': 114}\n"
     ]
    }
   ],
   "source": [
    "phone_book = {'Zhang3':110, 'Li4':120, 'Wang5':119, 'Zhao6':114}\n",
    "print(phone_book)"
   ]
  },
  {
   "cell_type": "code",
   "execution_count": 70,
   "metadata": {},
   "outputs": [
    {
     "name": "stdout",
     "output_type": "stream",
     "text": [
      "dict_keys(['Zhang3', 'Li4', 'Wang5', 'Zhao6'])\n"
     ]
    }
   ],
   "source": [
    "print(phone_book.keys())"
   ]
  },
  {
   "cell_type": "code",
   "execution_count": 71,
   "metadata": {},
   "outputs": [
    {
     "name": "stdout",
     "output_type": "stream",
     "text": [
      "dict_values([110, 120, 119, 114])\n"
     ]
    }
   ],
   "source": [
    "print(phone_book.values())"
   ]
  },
  {
   "cell_type": "code",
   "execution_count": 72,
   "metadata": {},
   "outputs": [
    {
     "name": "stdout",
     "output_type": "stream",
     "text": [
      "dict_items([('Zhang3', 110), ('Li4', 120), ('Wang5', 119), ('Zhao6', 114)])\n"
     ]
    }
   ],
   "source": [
    "print(phone_book.items())"
   ]
  },
  {
   "cell_type": "code",
   "execution_count": 73,
   "metadata": {},
   "outputs": [
    {
     "name": "stdout",
     "output_type": "stream",
     "text": [
      "Zhang3\n",
      "110\n",
      "------------\n",
      "Li4\n",
      "120\n",
      "------------\n",
      "Wang5\n",
      "119\n",
      "------------\n",
      "Zhao6\n",
      "114\n",
      "------------\n"
     ]
    }
   ],
   "source": [
    "for key in phone_book.keys():\n",
    "    print(key)\n",
    "    print(phone_book[key])\n",
    "    print('------------')"
   ]
  },
  {
   "cell_type": "code",
   "execution_count": 74,
   "metadata": {},
   "outputs": [],
   "source": [
    "#get"
   ]
  },
  {
   "cell_type": "code",
   "execution_count": 75,
   "metadata": {},
   "outputs": [
    {
     "name": "stdout",
     "output_type": "stream",
     "text": [
      "{'Zhang3': 110, 'Li4': 120, 'Wang5': 119, 'Zhao6': 114}\n"
     ]
    }
   ],
   "source": [
    "phone_book = {'Zhang3':110, 'Li4':120, 'Wang5':119, 'Zhao6':114}\n",
    "print(phone_book)"
   ]
  },
  {
   "cell_type": "code",
   "execution_count": 76,
   "metadata": {},
   "outputs": [
    {
     "name": "stdout",
     "output_type": "stream",
     "text": [
      "110\n"
     ]
    }
   ],
   "source": [
    "print(phone_book['Zhang3'])"
   ]
  },
  {
   "cell_type": "code",
   "execution_count": 77,
   "metadata": {},
   "outputs": [
    {
     "name": "stdout",
     "output_type": "stream",
     "text": [
      "110\n"
     ]
    }
   ],
   "source": [
    "print(phone_book.get('Zhang3'))"
   ]
  },
  {
   "cell_type": "code",
   "execution_count": 78,
   "metadata": {},
   "outputs": [
    {
     "ename": "KeyError",
     "evalue": "'Sun7'",
     "output_type": "error",
     "traceback": [
      "\u001b[1;31m---------------------------------------------------------------------------\u001b[0m",
      "\u001b[1;31mKeyError\u001b[0m                                  Traceback (most recent call last)",
      "\u001b[1;32m<ipython-input-78-97d2cfc50b87>\u001b[0m in \u001b[0;36m<module>\u001b[1;34m()\u001b[0m\n\u001b[1;32m----> 1\u001b[1;33m \u001b[0mprint\u001b[0m\u001b[1;33m(\u001b[0m\u001b[0mphone_book\u001b[0m\u001b[1;33m[\u001b[0m\u001b[1;34m'Sun7'\u001b[0m\u001b[1;33m]\u001b[0m\u001b[1;33m)\u001b[0m\u001b[1;33m\u001b[0m\u001b[0m\n\u001b[0m",
      "\u001b[1;31mKeyError\u001b[0m: 'Sun7'"
     ]
    }
   ],
   "source": [
    "print(phone_book['Sun7'])"
   ]
  },
  {
   "cell_type": "code",
   "execution_count": 80,
   "metadata": {},
   "outputs": [
    {
     "name": "stdout",
     "output_type": "stream",
     "text": [
      "None\n"
     ]
    }
   ],
   "source": [
    "print(phone_book.get('Sun7'))"
   ]
  },
  {
   "cell_type": "markdown",
   "metadata": {},
   "source": [
    "# Compare list and dict"
   ]
  },
  {
   "cell_type": "code",
   "execution_count": 81,
   "metadata": {},
   "outputs": [
    {
     "name": "stdout",
     "output_type": "stream",
     "text": [
      "True\n",
      "False\n"
     ]
    }
   ],
   "source": [
    "list_variable = ['a', 'b', 'dd', 'cccc']\n",
    "print('a' in list_variable)\n",
    "print('aa' in list_variable)"
   ]
  },
  {
   "cell_type": "code",
   "execution_count": 82,
   "metadata": {},
   "outputs": [
    {
     "name": "stdout",
     "output_type": "stream",
     "text": [
      "{'Zhang3': 110, 'Li4': 120, 'Wang5': 119, 'Zhao6': 114}\n",
      "True\n",
      "False\n",
      "True\n"
     ]
    }
   ],
   "source": [
    "phone_book = {'Zhang3':110, 'Li4':120, 'Wang5':119, 'Zhao6':114}\n",
    "print(phone_book)\n",
    "\n",
    "print('Zhang3' in phone_book.keys())\n",
    "print('Sun7' in phone_book.keys())\n",
    "print(110 in phone_book.values())\n",
    "\n",
    "#variables in iterative blabla (list, dict, string)"
   ]
  },
  {
   "cell_type": "code",
   "execution_count": 95,
   "metadata": {},
   "outputs": [
    {
     "name": "stdout",
     "output_type": "stream",
     "text": [
      "1000\n",
      "1000\n",
      "100000\n",
      "100000\n"
     ]
    }
   ],
   "source": [
    "list_1 = []\n",
    "dict_1 = {}\n",
    "\n",
    "for index in range(1000):\n",
    "    list_1.append(index)\n",
    "    dict_1[index] = index\n",
    "\n",
    "print(len(list_1))\n",
    "print(len(dict_1))\n",
    "    \n",
    "list_2 = []\n",
    "dict_2 = {}\n",
    "\n",
    "for index in range(100000):\n",
    "    list_2.append(index)\n",
    "    dict_2[index] = index\n",
    "\n",
    "print(len(list_2))\n",
    "print(len(dict_2))"
   ]
  },
  {
   "cell_type": "code",
   "execution_count": 96,
   "metadata": {},
   "outputs": [
    {
     "name": "stdout",
     "output_type": "stream",
     "text": [
      "True\n"
     ]
    }
   ],
   "source": [
    "print(0 in list_1)"
   ]
  },
  {
   "cell_type": "code",
   "execution_count": 99,
   "metadata": {},
   "outputs": [
    {
     "name": "stdout",
     "output_type": "stream",
     "text": [
      "True\n",
      "0:00:00\n",
      "True\n",
      "0:00:00.015623\n"
     ]
    }
   ],
   "source": [
    "import datetime\n",
    "\n",
    "search_value = list_1[-1]\n",
    "start_time = datetime.datetime.now()\n",
    "#process\n",
    "print(search_value in list_1)\n",
    "end_time = datetime.datetime.now()\n",
    "print(end_time -start_time)\n",
    "\n",
    "search_value = list_2[-1]\n",
    "start_time = datetime.datetime.now()\n",
    "#process\n",
    "print(search_value in list_2)\n",
    "end_time = datetime.datetime.now()\n",
    "print(end_time -start_time)"
   ]
  },
  {
   "cell_type": "code",
   "execution_count": 100,
   "metadata": {},
   "outputs": [
    {
     "name": "stdout",
     "output_type": "stream",
     "text": [
      "9024\n",
      "824464\n",
      "36968\n",
      "5242976\n"
     ]
    }
   ],
   "source": [
    "import sys\n",
    "\n",
    "print(sys.getsizeof(list_1))\n",
    "print(sys.getsizeof(list_2))\n",
    "\n",
    "print(sys.getsizeof(dict_1))\n",
    "print(sys.getsizeof(dict_2))"
   ]
  },
  {
   "cell_type": "code",
   "execution_count": null,
   "metadata": {},
   "outputs": [],
   "source": []
  }
 ],
 "metadata": {
  "kernelspec": {
   "display_name": "Python 3",
   "language": "python",
   "name": "python3"
  },
  "language_info": {
   "codemirror_mode": {
    "name": "ipython",
    "version": 3
   },
   "file_extension": ".py",
   "mimetype": "text/x-python",
   "name": "python",
   "nbconvert_exporter": "python",
   "pygments_lexer": "ipython3",
   "version": "3.6.5"
  }
 },
 "nbformat": 4,
 "nbformat_minor": 2
}
