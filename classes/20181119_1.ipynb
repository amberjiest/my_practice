{
 "cells": [
  {
   "cell_type": "markdown",
   "metadata": {},
   "source": [
    "类的封装；不同的类可以有相同命名的方法？str list都有一个count对象。继承，实现继承、接口继承？"
   ]
  },
  {
   "cell_type": "code",
   "execution_count": 1,
   "metadata": {},
   "outputs": [],
   "source": [
    "class Person:\n",
    "    def set_name(self, name):\n",
    "        self.__name = name\n",
    "        \n",
    "    def get_name(self):\n",
    "        return self.__name\n",
    "    \n",
    "    def greet(self):\n",
    "        print(\"Hello, I'm {}\".format(self.__name))"
   ]
  },
  {
   "cell_type": "code",
   "execution_count": 3,
   "metadata": {},
   "outputs": [
    {
     "name": "stdout",
     "output_type": "stream",
     "text": [
      "Hello, I'm zs\n",
      "Hello, I'm ls\n"
     ]
    }
   ],
   "source": [
    "zs = Person()\n",
    "zs.set_name('zs')\n",
    "zs.greet()\n",
    "\n",
    "ls = Person()\n",
    "ls.set_name('ls')\n",
    "ls.greet()"
   ]
  },
  {
   "cell_type": "markdown",
   "metadata": {},
   "source": [
    "更简洁的方式去表示ls = Person()  ls.set_name('ls') ，zs = Person('zs')\n",
    "缺省参数"
   ]
  },
  {
   "cell_type": "code",
   "execution_count": 8,
   "metadata": {},
   "outputs": [],
   "source": [
    "class Person2:\n",
    "    def __init__(self):\n",
    "        print('hello')\n",
    "        \n",
    "    def set_name(self, name):\n",
    "        self.__name = name\n",
    "        \n",
    "    def get_name(self):\n",
    "        return self.__name\n",
    "    \n",
    "    def greet(self):\n",
    "        print(\"Hello, I'm {}\".format(self.__name))\n",
    "        "
   ]
  },
  {
   "cell_type": "code",
   "execution_count": 13,
   "metadata": {},
   "outputs": [],
   "source": [
    "class Person3:\n",
    "    def __init__(self, name=None):\n",
    "        if not name is None:\n",
    "            self.set_name(name)\n",
    "        \n",
    "    def set_name(self, name):\n",
    "        self.__name = name\n",
    "        \n",
    "    def get_name(self):\n",
    "        return self.__name\n",
    "    \n",
    "    def greet(self):\n",
    "        print(\"Hello, I'm {}\".format(self.__name))\n",
    "        "
   ]
  },
  {
   "cell_type": "code",
   "execution_count": 14,
   "metadata": {},
   "outputs": [
    {
     "name": "stdout",
     "output_type": "stream",
     "text": [
      "Hello, I'm zs\n",
      "Hello, I'm ls\n"
     ]
    }
   ],
   "source": [
    "zs = Person3('zs')\n",
    "zs.greet()\n",
    "\n",
    "ls = Person3()\n",
    "ls.set_name('ls')\n",
    "ls.greet()"
   ]
  },
  {
   "cell_type": "markdown",
   "metadata": {},
   "source": [
    "复制代码or写成函数，后者更保险更方便改。"
   ]
  },
  {
   "cell_type": "code",
   "execution_count": 18,
   "metadata": {},
   "outputs": [
    {
     "data": {
      "text/plain": [
       "[1, 2, 3]"
      ]
     },
     "execution_count": 18,
     "metadata": {},
     "output_type": "execute_result"
    }
   ],
   "source": [
    "class Filter:\n",
    "    def __init__(self):\n",
    "        self.blocked = []\n",
    "        \n",
    "    def filter(self, sequence):\n",
    "        return [x for x in sequence if x not in self.blocked]#list comprehension\n",
    "    \n",
    "class SpamFilter(Filter):\n",
    "    def __init__(self):\n",
    "        self.blocked = ['SPAM']\n",
    "        \n",
    "f = Filter()\n",
    "f.filter([1, 2, 3])\n",
    "        "
   ]
  },
  {
   "cell_type": "code",
   "execution_count": 19,
   "metadata": {},
   "outputs": [
    {
     "data": {
      "text/plain": [
       "['eggs', 'bacon']"
      ]
     },
     "execution_count": 19,
     "metadata": {},
     "output_type": "execute_result"
    }
   ],
   "source": [
    "sf = SpamFilter()\n",
    "sf.filter(['SPAM', 'SPAM', 'eggs', 'SPAM', 'bacon', 'SPAM'])"
   ]
  },
  {
   "cell_type": "code",
   "execution_count": 20,
   "metadata": {},
   "outputs": [
    {
     "data": {
      "text/plain": [
       "True"
      ]
     },
     "execution_count": 20,
     "metadata": {},
     "output_type": "execute_result"
    }
   ],
   "source": [
    "issubclass(SpamFilter, Filter)"
   ]
  },
  {
   "cell_type": "code",
   "execution_count": 21,
   "metadata": {},
   "outputs": [
    {
     "data": {
      "text/plain": [
       "False"
      ]
     },
     "execution_count": 21,
     "metadata": {},
     "output_type": "execute_result"
    }
   ],
   "source": [
    "issubclass(Filter, SpamFilter)"
   ]
  },
  {
   "cell_type": "code",
   "execution_count": 22,
   "metadata": {},
   "outputs": [
    {
     "data": {
      "text/plain": [
       "__main__.Filter"
      ]
     },
     "execution_count": 22,
     "metadata": {},
     "output_type": "execute_result"
    }
   ],
   "source": [
    "SpamFilter.__base__"
   ]
  },
  {
   "cell_type": "code",
   "execution_count": 23,
   "metadata": {},
   "outputs": [
    {
     "data": {
      "text/plain": [
       "True"
      ]
     },
     "execution_count": 23,
     "metadata": {},
     "output_type": "execute_result"
    }
   ],
   "source": [
    "isinstance(sf, SpamFilter)"
   ]
  },
  {
   "cell_type": "code",
   "execution_count": 25,
   "metadata": {},
   "outputs": [
    {
     "data": {
      "text/plain": [
       "True"
      ]
     },
     "execution_count": 25,
     "metadata": {},
     "output_type": "execute_result"
    }
   ],
   "source": [
    "isinstance(sf, Filter)#子类的一个对象也是超类的对象。"
   ]
  },
  {
   "cell_type": "code",
   "execution_count": 26,
   "metadata": {},
   "outputs": [
    {
     "data": {
      "text/plain": [
       "['eggs', 'bacon']"
      ]
     },
     "execution_count": 26,
     "metadata": {},
     "output_type": "execute_result"
    }
   ],
   "source": [
    "f = Filter()\n",
    "f.blocked = ['SPAM']\n",
    "f.filter(['SPAM', 'SPAM', 'SPAM', 'eggs', 'bacon'])"
   ]
  },
  {
   "cell_type": "code",
   "execution_count": 33,
   "metadata": {},
   "outputs": [],
   "source": [
    "class Filter:\n",
    "    def __init__(self):\n",
    "        self.blocked = []\n",
    "        \n",
    "#     def set_filter(self, filter):\n",
    "#         self.blocked = filter\n",
    "        \n",
    "    def add_item(self, *items):\n",
    "        for item in items:\n",
    "            self.blocked.append(item)    \n",
    "        \n",
    "    def filter(self, sequence):\n",
    "        return [x for x in sequence if x not in self.blocked]#list comprehension\n",
    "    "
   ]
  },
  {
   "cell_type": "code",
   "execution_count": 34,
   "metadata": {},
   "outputs": [
    {
     "data": {
      "text/plain": [
       "['bacon']"
      ]
     },
     "execution_count": 34,
     "metadata": {},
     "output_type": "execute_result"
    }
   ],
   "source": [
    "f = Filter()\n",
    "# f.set_filter(['SPAM'])\n",
    "f.add_item('SPAM', 'eggs')\n",
    "f.filter(['SPAM', 'SPAM', 'SPAM', 'eggs', 'bacon'])"
   ]
  },
  {
   "cell_type": "markdown",
   "metadata": {},
   "source": [
    "多重继承不好用？why?被继承的两大类最好没有关系"
   ]
  },
  {
   "cell_type": "code",
   "execution_count": 43,
   "metadata": {},
   "outputs": [
    {
     "name": "stdout",
     "output_type": "stream",
     "text": [
      "My value is  7\n"
     ]
    }
   ],
   "source": [
    "class Calculator:\n",
    "    def calculate(self, expression):\n",
    "        self.value = eval(expression)\n",
    "        \n",
    "class Talker:\n",
    "    def talk(self):\n",
    "        print('My value is ', self.value)\n",
    "        \n",
    "class TalkingCalculator(Calculator, Talker):\n",
    "    pass\n",
    "\n",
    "tc = TalkingCalculator()\n",
    "tc.calculate('1 + 2 * 3')\n",
    "tc.talk()"
   ]
  },
  {
   "cell_type": "code",
   "execution_count": 51,
   "metadata": {},
   "outputs": [],
   "source": [
    "class Calculator:\n",
    "    def calculate(self, expression):\n",
    "        self.value = eval(expression)\n",
    "        \n",
    "class Talker:\n",
    "    def talk(self):\n",
    "        print('My value is ', self.value)\n",
    "        \n",
    "class TalkingCalculator():\n",
    "    def __init__(self):\n",
    "        self.calculator = Calculator()\n",
    "        self.talker = Talker()\n",
    "        \n",
    "    def calculate(self, expression):\n",
    "        self.calculator.calculate(expression)\n",
    "        self.talker.value = self.calculator.value#将Calculator与Talker联系起来，不让这两者都有同样的value，而是在这里给他们一个接口。\n",
    "        self.talker.talk()"
   ]
  },
  {
   "cell_type": "code",
   "execution_count": 52,
   "metadata": {},
   "outputs": [
    {
     "name": "stdout",
     "output_type": "stream",
     "text": [
      "My value is  7\n"
     ]
    }
   ],
   "source": [
    "tc = TalkingCalculator()\n",
    "tc.calculate('1 + 2 * 3')"
   ]
  },
  {
   "cell_type": "markdown",
   "metadata": {},
   "source": [
    "写成函数，重复使用"
   ]
  },
  {
   "cell_type": "code",
   "execution_count": 60,
   "metadata": {},
   "outputs": [
    {
     "name": "stdout",
     "output_type": "stream",
     "text": [
      "wang wang...\n",
      "miao miao...\n",
      "I cannot talk.\n"
     ]
    }
   ],
   "source": [
    "class Dog:\n",
    "    def talk(self):\n",
    "        print('wang wang...')\n",
    "        \n",
    "class Cat:\n",
    "    def talk(self):\n",
    "        print('miao miao...')\n",
    "        \n",
    "class Turtle:\n",
    "    def __init__(self):\n",
    "        self.talk = False\n",
    "\n",
    "animals = []\n",
    "animals.append(Dog())\n",
    "animals.append(Cat())\n",
    "animals.append(Turtle())\n",
    "\n",
    "for animal in animals:\n",
    "    if callable(getattr(animal, 'talk', None)):\n",
    "        animal.talk()\n",
    "        \n",
    "#     if hasattr(animal, 'talk'):\n",
    "#         animal.talk()         hasattr不能区分类（对象）的是不是有一个同样名字的函数或方法（属性）,\n",
    "#                               callable可以判断调用的方法是不是\n",
    "    else:\n",
    "        print('I cannot talk.')"
   ]
  },
  {
   "cell_type": "markdown",
   "metadata": {},
   "source": [
    "# assignment designed by myself\n",
    "\n",
    "# class a:\n",
    "#     def multiply(self, x):\n",
    "#         print(lambda x:x*2)\n",
    "# class b:\n",
    "#     def __init__(self, y):\n",
    "#         self.multiply = y\n",
    "#         print(self.multiply)\n",
    "        \n",
    "# aa = a()\n",
    "# has"
   ]
  },
  {
   "cell_type": "code",
   "execution_count": 62,
   "metadata": {},
   "outputs": [
    {
     "data": {
      "text/plain": [
       "{'_Person3__name': 'ls'}"
      ]
     },
     "execution_count": 62,
     "metadata": {},
     "output_type": "execute_result"
    }
   ],
   "source": [
    "ls.__dict__"
   ]
  },
  {
   "cell_type": "code",
   "execution_count": 63,
   "metadata": {},
   "outputs": [
    {
     "data": {
      "text/plain": [
       "{'calculator': <__main__.Calculator at 0x17910719dd8>,\n",
       " 'talker': <__main__.Talker at 0x17910719128>}"
      ]
     },
     "execution_count": 63,
     "metadata": {},
     "output_type": "execute_result"
    }
   ],
   "source": [
    "tc.__dict__"
   ]
  },
  {
   "cell_type": "markdown",
   "metadata": {},
   "source": [
    "面向对象的编程设计中，接口概念很重要的呦。零部件接口，类比：集装箱提供了标准空间，实现运输时的时间成本，经济成本。"
   ]
  },
  {
   "cell_type": "code",
   "execution_count": 64,
   "metadata": {},
   "outputs": [
    {
     "ename": "TypeError",
     "evalue": "Can't instantiate abstract class Talker with abstract methods talk",
     "output_type": "error",
     "traceback": [
      "\u001b[1;31m---------------------------------------------------------------------------\u001b[0m",
      "\u001b[1;31mTypeError\u001b[0m                                 Traceback (most recent call last)",
      "\u001b[1;32m<ipython-input-64-9b2d4ac8d8fe>\u001b[0m in \u001b[0;36m<module>\u001b[1;34m\u001b[0m\n\u001b[0;32m      6\u001b[0m         \u001b[1;32mpass\u001b[0m\u001b[1;33m\u001b[0m\u001b[1;33m\u001b[0m\u001b[0m\n\u001b[0;32m      7\u001b[0m \u001b[1;33m\u001b[0m\u001b[0m\n\u001b[1;32m----> 8\u001b[1;33m \u001b[0mtalker\u001b[0m \u001b[1;33m=\u001b[0m \u001b[0mTalker\u001b[0m\u001b[1;33m(\u001b[0m\u001b[1;33m)\u001b[0m\u001b[1;33m\u001b[0m\u001b[1;33m\u001b[0m\u001b[0m\n\u001b[0m",
      "\u001b[1;31mTypeError\u001b[0m: Can't instantiate abstract class Talker with abstract methods talk"
     ]
    }
   ],
   "source": [
    "from abc import ABC, abstractmethod\n",
    "\n",
    "class Talker(ABC):\n",
    "    @abstractmethod #抽象方法，将Talker装饰\n",
    "    def talk(self):\n",
    "        pass\n",
    "    \n",
    "talker = Talker()\n"
   ]
  },
  {
   "cell_type": "code",
   "execution_count": 67,
   "metadata": {},
   "outputs": [],
   "source": [
    "class Dog(Talker):\n",
    "    def talk(self):\n",
    "        pass\n",
    "#       print('wang wang...')\n",
    "        \n",
    "dog = Dog()\n",
    "dog.talk()"
   ]
  },
  {
   "cell_type": "code",
   "execution_count": 68,
   "metadata": {},
   "outputs": [
    {
     "ename": "TypeError",
     "evalue": "Can't instantiate abstract class Dog with abstract methods talk",
     "output_type": "error",
     "traceback": [
      "\u001b[1;31m---------------------------------------------------------------------------\u001b[0m",
      "\u001b[1;31mTypeError\u001b[0m                                 Traceback (most recent call last)",
      "\u001b[1;32m<ipython-input-68-a1cc835adb66>\u001b[0m in \u001b[0;36m<module>\u001b[1;34m\u001b[0m\n\u001b[0;32m      4\u001b[0m \u001b[1;31m#       print('wang wang...')\u001b[0m\u001b[1;33m\u001b[0m\u001b[1;33m\u001b[0m\u001b[1;33m\u001b[0m\u001b[0m\n\u001b[0;32m      5\u001b[0m \u001b[1;33m\u001b[0m\u001b[0m\n\u001b[1;32m----> 6\u001b[1;33m \u001b[0mdog\u001b[0m \u001b[1;33m=\u001b[0m \u001b[0mDog\u001b[0m\u001b[1;33m(\u001b[0m\u001b[1;33m)\u001b[0m\u001b[1;33m\u001b[0m\u001b[1;33m\u001b[0m\u001b[0m\n\u001b[0m\u001b[0;32m      7\u001b[0m \u001b[0mdog\u001b[0m\u001b[1;33m.\u001b[0m\u001b[0mtalk\u001b[0m\u001b[1;33m(\u001b[0m\u001b[1;33m)\u001b[0m\u001b[1;33m\u001b[0m\u001b[1;33m\u001b[0m\u001b[0m\n",
      "\u001b[1;31mTypeError\u001b[0m: Can't instantiate abstract class Dog with abstract methods talk"
     ]
    }
   ],
   "source": [
    "#Dog类是由Talker派生出来的类，所以当他没有talk模块的时候，向上找到Talker的方法talk但是，由于talk被抽象化了，所以不可以讲话。\n",
    "class Dog(Talker):\n",
    "#     def talk(self):\n",
    "        pass\n",
    "#       print('wang wang...')\n",
    "        \n",
    "dog = Dog()\n",
    "dog.talk()"
   ]
  },
  {
   "cell_type": "code",
   "execution_count": 72,
   "metadata": {},
   "outputs": [
    {
     "name": "stdout",
     "output_type": "stream",
     "text": [
      "Not a talking animal. Not admitted!\n"
     ]
    }
   ],
   "source": [
    "class Dog(Talker):\n",
    "    def talk(self):\n",
    "        print('wang wang...')\n",
    "        \n",
    "class Cat(Talker):\n",
    "    def talk(self):\n",
    "        print('miao miao...')\n",
    "        \n",
    "class Turtle:\n",
    "    def __init__(self):\n",
    "        self.talk = False\n",
    "\n",
    "# animals = []\n",
    "# animals.append(Dog())\n",
    "# animals.append(Cat())\n",
    "# animals.append(Turtle())\n",
    "\n",
    "class TalkerContainer:\n",
    "    def __init__(self):\n",
    "        self.__animals = []\n",
    "        \n",
    "    def add_talker(self, talker):\n",
    "        if isinstance(talker, Talker):\n",
    "            self.__animals.append(talker)\n",
    "        else:\n",
    "            print('Not a talking animal. Not admitted!')\n",
    "        \n",
    "    def talk(self):\n",
    "        for animal in self.animals:\n",
    "            animal.talk()\n",
    "\n",
    "tc = TalkerContainer()\n",
    "tc.add_talker(Dog())\n",
    "tc.add_talker(Turtle())\n",
    "tc.add_talker(Cat())\n",
    "\n",
    "# for animal in animals:\n",
    "#     if callable(getattr(animal, 'talk', None)):\n",
    "#         animal.talk()\n",
    "        \n",
    "# #     if hasattr(animal, 'talk'):\n",
    "# #         animal.talk()         hasattr不能区分类（对象）的是不是有一个同样名字的函数或方法（属性）,\n",
    "# #                               callable可以判断调用的方法是不是\n",
    "#     else:\n",
    "#         print('I cannot talk.')"
   ]
  },
  {
   "cell_type": "markdown",
   "metadata": {},
   "source": [
    "assert 将蚂蚁的例子写成面向对象的"
   ]
  },
  {
   "cell_type": "code",
   "execution_count": null,
   "metadata": {},
   "outputs": [],
   "source": []
  }
 ],
 "metadata": {
  "kernelspec": {
   "display_name": "Python 3",
   "language": "python",
   "name": "python3"
  },
  "language_info": {
   "codemirror_mode": {
    "name": "ipython",
    "version": 3
   },
   "file_extension": ".py",
   "mimetype": "text/x-python",
   "name": "python",
   "nbconvert_exporter": "python",
   "pygments_lexer": "ipython3",
   "version": "3.6.7"
  }
 },
 "nbformat": 4,
 "nbformat_minor": 2
}
